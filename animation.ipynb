{
 "cells": [
  {
   "cell_type": "code",
   "execution_count": 1,
   "metadata": {},
   "outputs": [],
   "source": [
    "import numpy as np\n",
    "from matplotlib import pyplot as plt\n",
    "from matplotlib import animation\n",
    "\n",
    "def velocity_x(t, x, vx, y, vy):\n",
    "    return vx\n",
    "\n",
    "def velocity_y(t, x, vx, y, vy):\n",
    "    return vy\n",
    "\n",
    "def acceleration_x(t, x, vx, y, vy):\n",
    "    r = np.sqrt(x**2.0 + y**2.0)\n",
    "    return -(x/r) *  1/ r**2\n",
    "    \n",
    "def acceleration_y(t, x, vx, y, vy):\n",
    "    r = np.sqrt(x ** 2.0 + y ** 2.0)\n",
    "    return -(y/r) * 1 / r**2\n",
    "    \n",
    "def rungekutta_method(x0, y0, vx0, vy0, t0, t1):\n",
    "    ### time interval ###\n",
    "    h = 0.01\n",
    "    N = int((t1 - t0) / h)\n",
    "\n",
    "    ### initial ###\n",
    "    xs, vxs, ys, vys, ts = [x0], [vx0], [y0], [vy0], np.linspace(t0, t1, N)\n",
    "\n",
    "    for i in range(1, N):\n",
    "        ### equation for x ### : dx/dt = v\n",
    "\n",
    "        t = t0 + h*(i-1)\n",
    "\n",
    "        k1x = velocity_x(t, x0, vx0, y0, vy0)\n",
    "        k1vx = acceleration_x(t, x0, vx0, y0, vy0)\n",
    "        k1y = velocity_y(t, x0, vx0, y0, vy0)\n",
    "        k1vy = acceleration_y(t, x0, vx0, y0, vy0)\n",
    "\n",
    "        k2x = velocity_x(t+h/2, x0+h*k1x/2, vx0+h*k1vx/2, y0+h*k1y/2, vy0+h*k1vy/2)\n",
    "        k2vx = acceleration_x(t+h/2, x0+h*k1x/2, vx0+h*k1vx/2, y0+h*k1y/2, vy0+h*k1vy/2)\n",
    "        k2y = velocity_y(t+h/2, x0+h*k1x/2, vx0+h*k1vx/2, y0+h*k1y/2, vy0+h*k1vy/2)\n",
    "        k2vy = acceleration_y(t+h/2, x0+h*k1x/2, vx0+h*k1vx/2, y0+h*k1y/2, vy0+h*k1vy/2)\n",
    "\n",
    "        k3x = velocity_x(t+h/2, x0+h*k2x/2, vx0+h*k2vx/2, y0+h*k2y/2, vy0+h*k2vy/2)\n",
    "        k3vx = acceleration_x(t+h/2, x0+h*k2x/2, vx0+h*k2vx/2, y0+h*k2y/2, vy0+h*k2vy/2)\n",
    "        k3y = velocity_y(t+h/2, x0+h*k2x/2, vx0+h*k2vx/2, y0+h*k2y/2, vy0+h*k2vy/2)\n",
    "        k3vy = acceleration_y(t+h/2, x0+h*k2x/2, vx0+h*k2vx/2, y0+h*k2y/2, vy0+h*k2vy/2)\n",
    "\n",
    "        k4x = velocity_x(t+h, x0+h*k3x, vx0+h*k3vx, y0+h*k3y, vy0+h*k3vy)\n",
    "        k4vx = acceleration_x(t+h, x0+h*k3x, vx0+h*k3vx, y0+h*k3y, vy0+h*k3vy)\n",
    "        k4y = velocity_y(t+h, x0+h*k3x, vx0+h*k3vx, y0+h*k3y, vy0+h*k3vy)\n",
    "        k4vy = acceleration_y(t+h, x0+h*k3x, vx0+h*k3vx, y0+h*k3y, vy0+h*k3vy)\n",
    "\n",
    "        x1 = x0 + h*(k1x + 2*k2x + 2*k3x + k4x)/6\n",
    "        vx1 = vx0 + h*(k1vx + 2*k2vx + 2*k3vx + k4vx)/6\n",
    "        y1 = y0 + h*(k1y + 2*k2y + 2*k3y + k4y)/6\n",
    "        vy1 = vy0 + h*(k1vy + 2*k2vy + 2*k3vy + k4vy)/6\n",
    "\n",
    "        xs.append(x1)\n",
    "        ys.append(y1)\n",
    "        vxs.append(vx1)\n",
    "        vys.append(vy1)\n",
    "\n",
    "        x0 = x1\n",
    "        y0 = y1\n",
    "        vx0 = vx1\n",
    "        vy0 = vy1\n",
    "\n",
    "    return np.array(ts), np.array(xs), np.array(ys), np.array(vxs), np.array(vys)\n",
    "\n",
    "def update(num, Z, point, line):\n",
    "    point.set_offsets(Z[num])\n",
    "    line.set_data(Z[:num, 0], Z[:num, 1])\n",
    "\n"
   ]
  },
  {
   "cell_type": "code",
   "execution_count": 2,
   "metadata": {},
   "outputs": [
    {
     "data": {
      "image/png": "[encoded data removed]",
      "text/plain": [
       "<Figure size 432x432 with 1 Axes>"
      ]
     },
     "metadata": {
      "needs_background": "light"
     },
     "output_type": "display_data"
    }
   ],
   "source": [
    "\n",
    "if __name__ == '__main__':\n",
    "    fig = plt.figure(figsize=(6, 6))\n",
    "    ax = plt.axes()\n",
    "    ax.grid()\n",
    "    \n",
    "    T, X, Y, VX, VY = rungekutta_method(1, 0, 0, 1.0, 0.0, 50)\n",
    "\n",
    "    X, Y = X[::10], Y[::10]\n",
    "    Z = np.hstack([X.reshape(-1,1), Y.reshape(-1,1)])\n",
    "    N = len(X)\n",
    "\n",
    "    xmax = max([np.abs(X).max(), np.abs(Y).max()])\n",
    "    ax.set_xlim(-xmax*1.1, xmax*1.1)\n",
    "    ax.set_ylim(-xmax*1.1, xmax*1.1)\n",
    "\n",
    "    point = ax.scatter([], [], s=50)\n",
    "    line, = ax.plot([], [])\n",
    "    ax.scatter([0], [0], s= 100)\n",
    "\n",
    "    ani = animation.FuncAnimation(fig, update, N, fargs=(Z, point, line), interval=10, blit=False)\n",
    "    ani.save('a.gif', writer=animation.PillowWriter(fps=30))\n",
    "    plt.show()"
   ]
  },
  {
   "cell_type": "code",
   "execution_count": null,
   "metadata": {},
   "outputs": [],
   "source": []
  }
 ],
 "metadata": {
  "kernelspec": {
   "display_name": "Python 3.10.4 ('mlenv')",
   "language": "python",
   "name": "python3"
  },
  "language_info": {
   "codemirror_mode": {
    "name": "ipython",
    "version": 3
   },
   "file_extension": ".py",
   "mimetype": "text/x-python",
   "name": "python",
   "nbconvert_exporter": "python",
   "pygments_lexer": "ipython3",
   "version": "3.10.4"
  },
  "orig_nbformat": 4,
  "vscode": {
   "interpreter": {
    "hash": "9d2639ffb07810fac2cedc92e08a41c0bae42ca785c48ccdb21dd6b5e60bd2fc"
   }
  }
 },
 "nbformat": 4,
 "nbformat_minor": 2
}

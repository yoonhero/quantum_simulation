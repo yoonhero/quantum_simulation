{
 "cells": [
  {
   "cell_type": "code",
   "execution_count": 1,
   "id": "bd0a794d",
   "metadata": {},
   "outputs": [
    {
     "name": "stdout",
     "output_type": "stream",
     "text": [
      "Available Themes: \r\n",
      "   chesterish\r\n",
      "   grade3\r\n",
      "   gruvboxd\r\n",
      "   gruvboxl\r\n",
      "   monokai\r\n",
      "   oceans16\r\n",
      "   onedork\r\n",
      "   solarizedd\r\n",
      "   solarizedl\r\n"
     ]
    }
   ],
   "source": [
    "!jt -l"
   ]
  },
  {
   "cell_type": "code",
   "execution_count": 2,
   "id": "a793e3a0",
   "metadata": {},
   "outputs": [],
   "source": [
    "!jt -t onedork -T -N -kl"
   ]
  },
  {
   "cell_type": "code",
   "execution_count": 3,
   "id": "52aa2980",
   "metadata": {},
   "outputs": [],
   "source": [
    "from jupyterthemes import jtplot \n",
    "\n",
    "jtplot.style()"
   ]
  },
  {
   "cell_type": "code",
   "execution_count": 1,
   "id": "3e7678ec",
   "metadata": {},
   "outputs": [
    {
     "ename": "SyntaxError",
     "evalue": "invalid syntax (380019712.py, line 1)",
     "output_type": "error",
     "traceback": [
      "\u001b[0;36m  Input \u001b[0;32mIn [1]\u001b[0;36m\u001b[0m\n\u001b[0;31m    from matplotlib.pyplot as plt\u001b[0m\n\u001b[0m                           ^\u001b[0m\n\u001b[0;31mSyntaxError\u001b[0m\u001b[0;31m:\u001b[0m invalid syntax\n"
     ]
    }
   ],
   "source": [
    "from matplotlib.pyplot as plt\n",
    "\n",
    "\n",
    "\n",
    "plt.plot(x, y, )\n",
    "\n"
   ]
  }
 ],
 "metadata": {
  "kernelspec": {
   "display_name": "Python 3 (ipykernel)",
   "language": "python",
   "name": "python3"
  },
  "language_info": {
   "codemirror_mode": {
    "name": "ipython",
    "version": 3
   },
   "file_extension": ".py",
   "mimetype": "text/x-python",
   "name": "python",
   "nbconvert_exporter": "python",
   "pygments_lexer": "ipython3",
   "version": "3.10.4"
  }
 },
 "nbformat": 4,
 "nbformat_minor": 5
}
